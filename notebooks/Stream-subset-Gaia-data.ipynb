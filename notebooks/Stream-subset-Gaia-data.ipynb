{
 "cells": [
  {
   "cell_type": "code",
   "execution_count": 1,
   "id": "b277cb32",
   "metadata": {
    "ExecuteTime": {
     "end_time": "2022-10-19T00:56:08.416148Z",
     "start_time": "2022-10-19T00:56:08.410850Z"
    }
   },
   "outputs": [
    {
     "name": "stderr",
     "output_type": "stream",
     "text": [
      "WARNING: AstropyDeprecationWarning: The matrix_product function is deprecated and may be removed in a future version.\n",
      "        Use @ instead. [gala.coordinates.sgr]\n",
      "WARNING: AstropyDeprecationWarning: The matrix_product function is deprecated and may be removed in a future version.\n",
      "        Use @ instead. [gala.coordinates.orphan]\n",
      "WARNING: AstropyDeprecationWarning: The matrix_product function is deprecated and may be removed in a future version.\n",
      "        Use @ instead. [gala.coordinates.magellanic_stream]\n",
      "WARNING: AstropyDeprecationWarning: http://bugs.python.org/issue12166 is resolved. See docstring for alternatives. [gala.dynamics.core]\n"
     ]
    }
   ],
   "source": [
    "import pathlib\n",
    "import warnings\n",
    "\n",
    "import astropy.coordinates as coord\n",
    "import astropy.table as at\n",
    "from astropy.io import fits\n",
    "import astropy.units as u\n",
    "import matplotlib as mpl\n",
    "import matplotlib.pyplot as plt\n",
    "import numpy as np\n",
    "%matplotlib inline\n",
    "from tqdm import tqdm\n",
    "from scipy.interpolate import InterpolatedUnivariateSpline\n",
    "\n",
    "import galstreams\n",
    "from pyia import GaiaData\n",
    "from astroquery.gaia import Gaia"
   ]
  },
  {
   "cell_type": "code",
   "execution_count": 2,
   "id": "f16c24ef",
   "metadata": {
    "ExecuteTime": {
     "end_time": "2022-10-19T00:48:31.224533Z",
     "start_time": "2022-10-19T00:48:31.220166Z"
    }
   },
   "outputs": [],
   "source": [
    "data_path = pathlib.Path('../data/').resolve().absolute()\n",
    "data_path.mkdir(exist_ok=True, parents=True)"
   ]
  },
  {
   "cell_type": "code",
   "execution_count": 3,
   "id": "f4b9f90a",
   "metadata": {
    "ExecuteTime": {
     "end_time": "2022-10-19T12:42:26.924141Z",
     "start_time": "2022-10-19T12:42:26.921124Z"
    }
   },
   "outputs": [],
   "source": [
    "streams = {\n",
    "    #'GD-1': 'GD-1-PB18',\n",
    "    #'Pal5': 'Pal5-PW19',\n",
    "    #'Jhelum': 'Jhelum-b-B19',\n",
    "    'Fjorm-M68': 'Fjorm-I21',\n",
    "    #'PS1-A': 'PS1-A-B16',\n",
    "}\n",
    "stds = {\n",
    "    #'GD-1': 1.,\n",
    "    #'Pal5': 1.,\n",
    "    #'Jhelum': 2.5,\n",
    "    'Fjorm-M68': 1.,\n",
    "    #'PS1-A': 1.\n",
    "}"
   ]
  },
  {
   "attachments": {},
   "cell_type": "markdown",
   "id": "f3a90a64",
   "metadata": {},
   "source": [
    "## Load existing/previously run jobs in the Gaia archive"
   ]
  },
  {
   "cell_type": "code",
   "execution_count": 4,
   "id": "b56bd02f",
   "metadata": {},
   "outputs": [
    {
     "data": {
      "text/plain": [
       "PosixPath('/Users/Tavangar/.gaia/archive.login')"
      ]
     },
     "execution_count": 4,
     "metadata": {},
     "output_type": "execute_result"
    }
   ],
   "source": [
    "pathlib.Path('~/.gaia/archive.login').expanduser()"
   ]
  },
  {
   "cell_type": "code",
   "execution_count": 5,
   "id": "4b86ba2e",
   "metadata": {
    "ExecuteTime": {
     "end_time": "2022-10-19T12:42:30.271665Z",
     "start_time": "2022-10-19T12:42:28.722879Z"
    }
   },
   "outputs": [
    {
     "name": "stdout",
     "output_type": "stream",
     "text": [
      "INFO: Login to gaia TAP server [astroquery.gaia.core]\n",
      "OK\n",
      "INFO: Login to gaia data server [astroquery.gaia.core]\n",
      "OK\n"
     ]
    }
   ],
   "source": [
    "Gaia.login(\n",
    "   credentials_file=pathlib.Path('~/.gaia/archive.login').expanduser()\n",
    ")"
   ]
  },
  {
   "cell_type": "code",
   "execution_count": 6,
   "id": "d3624dbb",
   "metadata": {
    "ExecuteTime": {
     "end_time": "2022-10-19T12:43:12.382245Z",
     "start_time": "2022-10-19T12:42:30.514728Z"
    },
    "scrolled": true
   },
   "outputs": [
    {
     "name": "stdout",
     "output_type": "stream",
     "text": [
      "phase was set\n",
      "phase was set\n",
      "phase was set\n",
      "phase was set\n",
      "phase was set\n",
      "phase was set\n",
      "phase was set\n",
      "phase was set\n",
      "phase was set\n",
      "phase was set\n",
      "phase was set\n",
      "phase was set\n",
      "phase was set\n",
      "phase was set\n",
      "phase was set\n",
      "phase was set\n",
      "phase was set\n",
      "phase was set\n",
      "phase was set\n",
      "phase was set\n",
      "phase was set\n",
      "phase was set\n",
      "phase was set\n",
      "phase was set\n",
      "phase was set\n",
      "phase was set\n",
      "phase was set\n",
      "phase was set\n",
      "phase was set\n",
      "phase was set\n",
      "phase was set\n",
      "phase was set\n",
      "phase was set\n",
      "phase was set\n",
      "phase was set\n",
      "phase was set\n",
      "phase was set\n",
      "phase was set\n",
      "phase was set\n",
      "phase was set\n",
      "phase was set\n",
      "phase was set\n",
      "phase was set\n",
      "phase was set\n",
      "phase was set\n",
      "phase was set\n",
      "phase was set\n",
      "phase was set\n",
      "phase was set\n",
      "phase was set\n",
      "phase was set\n",
      "phase was set\n",
      "phase was set\n",
      "phase was set\n",
      "phase was set\n",
      "phase was set\n",
      "phase was set\n",
      "phase was set\n",
      "phase was set\n",
      "phase was set\n",
      "phase was set\n",
      "phase was set\n",
      "phase was set\n",
      "phase was set\n",
      "phase was set\n",
      "phase was set\n",
      "phase was set\n",
      "phase was set\n",
      "phase was set\n",
      "phase was set\n",
      "phase was set\n",
      "phase was set\n",
      "phase was set\n",
      "phase was set\n",
      "phase was set\n",
      "phase was set\n",
      "phase was set\n",
      "phase was set\n",
      "phase was set\n",
      "phase was set\n",
      "phase was set\n",
      "phase was set\n",
      "phase was set\n",
      "phase was set\n",
      "phase was set\n",
      "phase was set\n",
      "phase was set\n",
      "phase was set\n",
      "phase was set\n",
      "phase was set\n",
      "phase was set\n",
      "phase was set\n",
      "phase was set\n",
      "phase was set\n",
      "phase was set\n",
      "phase was set\n",
      "phase was set\n",
      "phase was set\n",
      "phase was set\n",
      "phase was set\n",
      "phase was set\n",
      "phase was set\n",
      "phase was set\n",
      "phase was set\n",
      "phase was set\n",
      "phase was set\n",
      "phase was set\n",
      "phase was set\n",
      "phase was set\n",
      "phase was set\n"
     ]
    }
   ],
   "source": [
    "jobs = Gaia.list_async_jobs()\n",
    "jobs = [Gaia.load_async_job(jobid=j.jobid, load_results=False) for j in jobs]\n",
    "jobs = {j.parameters['jobname']: j for j in jobs if j.is_finished()}"
   ]
  },
  {
   "attachments": {},
   "cell_type": "markdown",
   "id": "893112e2",
   "metadata": {},
   "source": [
    "## Define the base query and column names to retrieve:"
   ]
  },
  {
   "cell_type": "code",
   "execution_count": 7,
   "id": "2fe56a68",
   "metadata": {
    "ExecuteTime": {
     "end_time": "2022-10-19T12:47:27.050996Z",
     "start_time": "2022-10-19T12:47:27.047783Z"
    }
   },
   "outputs": [],
   "source": [
    "gaia_columns = [\n",
    "    'source_id', \n",
    "    'ra', 'dec', \n",
    "    'parallax', 'parallax_error', \n",
    "    'pmra', 'pmra_error', 'pmdec', 'pmdec_error', \n",
    "    'ra_parallax_corr', 'ra_pmra_corr', 'ra_pmdec_corr', 'dec_parallax_corr', \n",
    "    'dec_pmra_corr', 'dec_pmdec_corr', 'parallax_pmra_corr', \n",
    "    'parallax_pmdec_corr', 'pmra_pmdec_corr', \n",
    "    'phot_g_mean_mag', 'phot_g_mean_flux_over_error', \n",
    "    'phot_bp_mean_mag', 'phot_bp_mean_flux_over_error', \n",
    "    'phot_rp_mean_mag', 'phot_rp_mean_flux_over_error', \n",
    "    'ruwe', 'astrometric_matched_transits'\n",
    "]"
   ]
  },
  {
   "cell_type": "code",
   "execution_count": 8,
   "id": "f0dc3c97",
   "metadata": {
    "ExecuteTime": {
     "end_time": "2022-10-19T12:47:27.404728Z",
     "start_time": "2022-10-19T12:47:27.402237Z"
    }
   },
   "outputs": [],
   "source": [
    "base_query = \"\"\"\n",
    "SELECT {columns}\n",
    "FROM gaiadr3.gaia_source\n",
    "WHERE parallax < 1 AND bp_rp > -2 AND bp_rp < 4 AND\n",
    "      CONTAINS(POINT('ICRS', ra, dec), \n",
    "               POLYGON('ICRS', \n",
    "                       {c[0].ra.degree}, {c[0].dec.degree}, \n",
    "                       {c[1].ra.degree}, {c[1].dec.degree}, \n",
    "                       {c[2].ra.degree}, {c[2].dec.degree}, \n",
    "                       {c[3].ra.degree}, {c[3].dec.degree})) = 1\n",
    "\"\"\""
   ]
  },
  {
   "attachments": {},
   "cell_type": "markdown",
   "id": "dabcce0c",
   "metadata": {},
   "source": [
    "## Load galstreams tracks:"
   ]
  },
  {
   "cell_type": "code",
   "execution_count": 6,
   "id": "ac242f8c",
   "metadata": {
    "ExecuteTime": {
     "end_time": "2022-10-19T12:47:51.420866Z",
     "start_time": "2022-10-19T12:47:28.554266Z"
    }
   },
   "outputs": [
    {
     "name": "stdout",
     "output_type": "stream",
     "text": [
      "Initializing galstreams library from master_log... \n"
     ]
    },
    {
     "name": "stderr",
     "output_type": "stream",
     "text": [
      "WARNING: AstropyDeprecationWarning: The matrix_product function is deprecated and may be removed in a future version.\n",
      "        Use @ instead. [gala.coordinates.greatcircle]\n"
     ]
    }
   ],
   "source": [
    "mws = galstreams.MWStreams(verbose=False, implement_Off=True)"
   ]
  },
  {
   "cell_type": "code",
   "execution_count": 23,
   "id": "0bac9514",
   "metadata": {
    "ExecuteTime": {
     "end_time": "2022-10-19T12:48:59.064687Z",
     "start_time": "2022-10-19T12:48:58.080177Z"
    }
   },
   "outputs": [
    {
     "data": {
      "image/png": "[encoded data removed]",
      "text/plain": [
       "<Figure size 1000x300 with 1 Axes>"
      ]
     },
     "metadata": {},
     "output_type": "display_data"
    }
   ],
   "source": [
    "windows = {}\n",
    "for name, gs_name in streams.items():\n",
    "    gs = mws[gs_name]\n",
    "    \n",
    "    track = gs.track.transform_to(gs.stream_frame)\n",
    "    \n",
    "    if name == 'Pal5':\n",
    "        # extrapolation of the track went wonky for pal 5\n",
    "        spl = InterpolatedUnivariateSpline(\n",
    "            track.phi1.degree[20:-10],\n",
    "            track.phi2.degree[20:-10],\n",
    "            k=1\n",
    "        )\n",
    "    else:\n",
    "        spl = InterpolatedUnivariateSpline(\n",
    "            track.phi1.degree,\n",
    "            track.phi2.degree,\n",
    "            k=1\n",
    "        )\n",
    "    \n",
    "    if name == 'GD-1':\n",
    "        grid_phi1 = np.linspace(-100, 20, 256)\n",
    "    else:\n",
    "        # extend track by +/- 5 deg in phi1:\n",
    "        grid_phi1 = np.linspace(\n",
    "            track.phi1.degree.min() - 10,\n",
    "            track.phi1.degree.max() + 10,\n",
    "            256\n",
    "        )\n",
    "    grid_phi2 = spl(grid_phi1)\n",
    "    \n",
    "    phi1 = np.concatenate((\n",
    "        grid_phi1,\n",
    "        grid_phi1[::-1],\n",
    "    ))\n",
    "    phi2 = np.concatenate((\n",
    "        grid_phi2 - 3 * stds[name],\n",
    "        grid_phi2[::-1] + 3 * stds[name],\n",
    "    ))\n",
    "    \n",
    "    fig, ax = plt.subplots(figsize=(10, 3))\n",
    "    ax.plot(\n",
    "        track.phi1.degree,\n",
    "        track.phi2.degree\n",
    "    )\n",
    "    ax.plot(\n",
    "        phi1,\n",
    "        phi2,\n",
    "        color='tab:blue'\n",
    "    )\n",
    "    ax.set_title(name)\n",
    "    \n",
    "    windows[name] = [(phi1.min(), phi1.max()), (phi2.min(), phi2.max())]\n",
    "    ax.set_xlim(windows[name][0])\n",
    "    ax.set_ylim(windows[name][1])"
   ]
  },
  {
   "attachments": {},
   "cell_type": "markdown",
   "id": "3547150f",
   "metadata": {},
   "source": [
    "## Run queries"
   ]
  },
  {
   "cell_type": "code",
   "execution_count": 25,
   "id": "ea490839",
   "metadata": {
    "ExecuteTime": {
     "end_time": "2022-10-19T13:21:18.673906Z",
     "start_time": "2022-10-19T12:49:33.438370Z"
    }
   },
   "outputs": [
    {
     "name": "stdout",
     "output_type": "stream",
     "text": [
      "0 -80.141963010425 -70.141963010425 /Users/Tavangar/Work/CATS_Workshop/cats/data/Fjorm-M68/poly_00.fits Fjorm-M68_00\n"
     ]
    },
    {
     "name": "stderr",
     "output_type": "stream",
     "text": [
      "WARNING: AstropyDeprecationWarning: The matrix_product function is deprecated and may be removed in a future version.\n",
      "        Use @ instead. [gala.coordinates.greatcircle]\n"
     ]
    },
    {
     "name": "stdout",
     "output_type": "stream",
     "text": [
      "1 -70.141963010425 -60.141963010425 /Users/Tavangar/Work/CATS_Workshop/cats/data/Fjorm-M68/poly_01.fits Fjorm-M68_01\n"
     ]
    },
    {
     "name": "stderr",
     "output_type": "stream",
     "text": [
      "WARNING: AstropyDeprecationWarning: The matrix_product function is deprecated and may be removed in a future version.\n",
      "        Use @ instead. [gala.coordinates.greatcircle]\n"
     ]
    },
    {
     "name": "stdout",
     "output_type": "stream",
     "text": [
      "2 -60.141963010425 -50.141963010425 /Users/Tavangar/Work/CATS_Workshop/cats/data/Fjorm-M68/poly_02.fits Fjorm-M68_02\n"
     ]
    },
    {
     "name": "stderr",
     "output_type": "stream",
     "text": [
      "WARNING: AstropyDeprecationWarning: The matrix_product function is deprecated and may be removed in a future version.\n",
      "        Use @ instead. [gala.coordinates.greatcircle]\n"
     ]
    },
    {
     "name": "stdout",
     "output_type": "stream",
     "text": [
      "3 -50.141963010425 -40.141963010425 /Users/Tavangar/Work/CATS_Workshop/cats/data/Fjorm-M68/poly_03.fits Fjorm-M68_03\n"
     ]
    },
    {
     "name": "stderr",
     "output_type": "stream",
     "text": [
      "WARNING: AstropyDeprecationWarning: The matrix_product function is deprecated and may be removed in a future version.\n",
      "        Use @ instead. [gala.coordinates.greatcircle]\n"
     ]
    },
    {
     "name": "stdout",
     "output_type": "stream",
     "text": [
      "4 -40.141963010425 -30.141963010425002 /Users/Tavangar/Work/CATS_Workshop/cats/data/Fjorm-M68/poly_04.fits Fjorm-M68_04\n"
     ]
    },
    {
     "name": "stderr",
     "output_type": "stream",
     "text": [
      "WARNING: AstropyDeprecationWarning: The matrix_product function is deprecated and may be removed in a future version.\n",
      "        Use @ instead. [gala.coordinates.greatcircle]\n"
     ]
    },
    {
     "name": "stdout",
     "output_type": "stream",
     "text": [
      "5 -30.141963010425002 -20.141963010425002 /Users/Tavangar/Work/CATS_Workshop/cats/data/Fjorm-M68/poly_05.fits Fjorm-M68_05\n"
     ]
    },
    {
     "name": "stderr",
     "output_type": "stream",
     "text": [
      "WARNING: AstropyDeprecationWarning: The matrix_product function is deprecated and may be removed in a future version.\n",
      "        Use @ instead. [gala.coordinates.greatcircle]\n"
     ]
    },
    {
     "name": "stdout",
     "output_type": "stream",
     "text": [
      "6 -20.141963010425002 -10.141963010425002 /Users/Tavangar/Work/CATS_Workshop/cats/data/Fjorm-M68/poly_06.fits Fjorm-M68_06\n"
     ]
    },
    {
     "name": "stderr",
     "output_type": "stream",
     "text": [
      "WARNING: AstropyDeprecationWarning: The matrix_product function is deprecated and may be removed in a future version.\n",
      "        Use @ instead. [gala.coordinates.greatcircle]\n"
     ]
    },
    {
     "name": "stdout",
     "output_type": "stream",
     "text": [
      "7 -10.141963010425002 -0.1419630104250018 /Users/Tavangar/Work/CATS_Workshop/cats/data/Fjorm-M68/poly_07.fits Fjorm-M68_07\n"
     ]
    },
    {
     "name": "stderr",
     "output_type": "stream",
     "text": [
      "WARNING: AstropyDeprecationWarning: The matrix_product function is deprecated and may be removed in a future version.\n",
      "        Use @ instead. [gala.coordinates.greatcircle]\n"
     ]
    },
    {
     "name": "stdout",
     "output_type": "stream",
     "text": [
      "8 -0.1419630104250018 9.858036989574998 /Users/Tavangar/Work/CATS_Workshop/cats/data/Fjorm-M68/poly_08.fits Fjorm-M68_08\n"
     ]
    },
    {
     "name": "stderr",
     "output_type": "stream",
     "text": [
      "WARNING: AstropyDeprecationWarning: The matrix_product function is deprecated and may be removed in a future version.\n",
      "        Use @ instead. [gala.coordinates.greatcircle]\n"
     ]
    },
    {
     "name": "stdout",
     "output_type": "stream",
     "text": [
      "9 9.858036989574998 19.858036989574998 /Users/Tavangar/Work/CATS_Workshop/cats/data/Fjorm-M68/poly_09.fits Fjorm-M68_09\n"
     ]
    },
    {
     "name": "stderr",
     "output_type": "stream",
     "text": [
      "WARNING: AstropyDeprecationWarning: The matrix_product function is deprecated and may be removed in a future version.\n",
      "        Use @ instead. [gala.coordinates.greatcircle]\n"
     ]
    },
    {
     "name": "stdout",
     "output_type": "stream",
     "text": [
      "10 19.858036989574998 29.858036989574998 /Users/Tavangar/Work/CATS_Workshop/cats/data/Fjorm-M68/poly_10.fits Fjorm-M68_10\n"
     ]
    },
    {
     "name": "stderr",
     "output_type": "stream",
     "text": [
      "WARNING: AstropyDeprecationWarning: The matrix_product function is deprecated and may be removed in a future version.\n",
      "        Use @ instead. [gala.coordinates.greatcircle]\n"
     ]
    },
    {
     "name": "stdout",
     "output_type": "stream",
     "text": [
      "11 29.858036989574998 39.858036989575 /Users/Tavangar/Work/CATS_Workshop/cats/data/Fjorm-M68/poly_11.fits Fjorm-M68_11\n"
     ]
    },
    {
     "name": "stderr",
     "output_type": "stream",
     "text": [
      "WARNING: AstropyDeprecationWarning: The matrix_product function is deprecated and may be removed in a future version.\n",
      "        Use @ instead. [gala.coordinates.greatcircle]\n"
     ]
    },
    {
     "name": "stdout",
     "output_type": "stream",
     "text": [
      "12 39.858036989575 49.858036989575 /Users/Tavangar/Work/CATS_Workshop/cats/data/Fjorm-M68/poly_12.fits Fjorm-M68_12\n"
     ]
    },
    {
     "name": "stderr",
     "output_type": "stream",
     "text": [
      "WARNING: AstropyDeprecationWarning: The matrix_product function is deprecated and may be removed in a future version.\n",
      "        Use @ instead. [gala.coordinates.greatcircle]\n"
     ]
    },
    {
     "name": "stdout",
     "output_type": "stream",
     "text": [
      "13 49.858036989575 59.858036989575 /Users/Tavangar/Work/CATS_Workshop/cats/data/Fjorm-M68/poly_13.fits Fjorm-M68_13\n"
     ]
    },
    {
     "name": "stderr",
     "output_type": "stream",
     "text": [
      "WARNING: AstropyDeprecationWarning: The matrix_product function is deprecated and may be removed in a future version.\n",
      "        Use @ instead. [gala.coordinates.greatcircle]\n"
     ]
    },
    {
     "name": "stdout",
     "output_type": "stream",
     "text": [
      "14 59.858036989575 69.858036989575 /Users/Tavangar/Work/CATS_Workshop/cats/data/Fjorm-M68/poly_14.fits Fjorm-M68_14\n"
     ]
    },
    {
     "name": "stderr",
     "output_type": "stream",
     "text": [
      "WARNING: AstropyDeprecationWarning: The matrix_product function is deprecated and may be removed in a future version.\n",
      "        Use @ instead. [gala.coordinates.greatcircle]\n"
     ]
    },
    {
     "name": "stdout",
     "output_type": "stream",
     "text": [
      "15 69.858036989575 79.858036989575 /Users/Tavangar/Work/CATS_Workshop/cats/data/Fjorm-M68/poly_15.fits Fjorm-M68_15\n"
     ]
    },
    {
     "name": "stderr",
     "output_type": "stream",
     "text": [
      "WARNING: AstropyDeprecationWarning: The matrix_product function is deprecated and may be removed in a future version.\n",
      "        Use @ instead. [gala.coordinates.greatcircle]\n"
     ]
    },
    {
     "name": "stdout",
     "output_type": "stream",
     "text": [
      "16 79.858036989575 80.14351946937923 /Users/Tavangar/Work/CATS_Workshop/cats/data/Fjorm-M68/poly_16.fits Fjorm-M68_16\n"
     ]
    },
    {
     "name": "stderr",
     "output_type": "stream",
     "text": [
      "WARNING: AstropyDeprecationWarning: The matrix_product function is deprecated and may be removed in a future version.\n",
      "        Use @ instead. [gala.coordinates.greatcircle]\n"
     ]
    }
   ],
   "source": [
    "dphi1 = 10.\n",
    "for name, gs_name in streams.items():\n",
    "    gs = mws[gs_name]\n",
    "    \n",
    "    this_path = data_path / name\n",
    "    this_path.mkdir(exist_ok=True)\n",
    "    \n",
    "    phi1_lim, phi2_lim = windows[name]\n",
    "    \n",
    "    phi1_grid = np.clip(np.arange(phi1_lim[0], phi1_lim[1]+dphi1, dphi1), phi1_lim[0], phi1_lim[1])\n",
    "\n",
    "    _jobs = {}\n",
    "    for i, (l, r) in enumerate(zip(phi1_grid[:-1], phi1_grid[1:])):\n",
    "        filename = this_path / f'poly_{i:02d}.fits'\n",
    "        jobname = f'{name}_{i:02d}'\n",
    "\n",
    "        print(i, l, r, filename, jobname)\n",
    "\n",
    "        if filename.exists():\n",
    "            continue\n",
    "\n",
    "        elif not filename.exists() and jobname in jobs:\n",
    "            # TODO: download job and save file\n",
    "            pass\n",
    "\n",
    "        else:\n",
    "            corners = coord.SkyCoord(\n",
    "                phi1=[l, l, r, r] * u.deg, \n",
    "                phi2=[phi2_lim[0], phi2_lim[1], phi2_lim[1], phi2_lim[0]] * u.deg,\n",
    "                frame=gs.stream_frame\n",
    "            ).icrs\n",
    "\n",
    "            query = base_query.format(\n",
    "                columns=', '.join(gaia_columns), \n",
    "                c=corners\n",
    "            )\n",
    "\n",
    "            with warnings.catch_warnings():\n",
    "                warnings.simplefilter('ignore')\n",
    "                job = Gaia.launch_job_async(query, name=jobname, background=True)\n",
    "            _jobs[filename] = job\n",
    "\n",
    "    if _jobs:\n",
    "        for fn, job in _jobs.items():\n",
    "            tbl = job.get_results()\n",
    "            tbl.write(fn, overwrite=True)"
   ]
  },
  {
   "attachments": {},
   "cell_type": "markdown",
   "id": "0dde6472",
   "metadata": {},
   "source": [
    "## Combine tables"
   ]
  },
  {
   "cell_type": "code",
   "execution_count": 4,
   "id": "d1d6ae84",
   "metadata": {
    "ExecuteTime": {
     "end_time": "2022-10-19T13:36:32.378061Z",
     "start_time": "2022-10-19T13:36:32.375303Z"
    }
   },
   "outputs": [],
   "source": [
    "from numpy.lib.recfunctions import stack_arrays"
   ]
  },
  {
   "cell_type": "code",
   "execution_count": 7,
   "id": "6fa03b78",
   "metadata": {
    "ExecuteTime": {
     "end_time": "2022-10-19T13:38:43.361812Z",
     "start_time": "2022-10-19T13:36:32.611005Z"
    }
   },
   "outputs": [
    {
     "name": "stderr",
     "output_type": "stream",
     "text": [
      "WARNING: AstropyDeprecationWarning: The matrix_product function is deprecated and may be removed in a future version.\n",
      "        Use @ instead. [gala.coordinates.greatcircle]\n"
     ]
    },
    {
     "data": {
      "image/png": "[encoded data removed]",
      "text/plain": [
       "<Figure size 1200x400 with 1 Axes>"
      ]
     },
     "metadata": {},
     "output_type": "display_data"
    }
   ],
   "source": [
    "for name, gs_name in streams.items():\n",
    "    gs = mws[gs_name]\n",
    "    \n",
    "    this_path = data_path / name\n",
    "    \n",
    "    all_filename = pathlib.Path(data_path / f'GaiaDR3-{name}-all.fits')\n",
    "    if all_filename.exists():\n",
    "        continue\n",
    "    \n",
    "    arrs = []\n",
    "    for filename in this_path.glob('poly_*.fits'):\n",
    "        arrs.append(np.array(fits.getdata(filename)))\n",
    "    arr = stack_arrays(arrs, asrecarray=True, usemask=False)\n",
    "    \n",
    "    t = at.Table(arr)\n",
    "    t = at.unique(t, keys='source_id')\n",
    "    \n",
    "    c = coord.SkyCoord(\n",
    "        t['ra'] * u.deg,\n",
    "        t['dec'] * u.deg,\n",
    "    ).transform_to(gs.stream_frame)\n",
    "    t['phi1'] = c.phi1.degree\n",
    "    t['phi2'] = c.phi2.degree\n",
    "    \n",
    "    t.write(all_filename, overwrite=True)\n",
    "    \n",
    "    # ---\n",
    "    \n",
    "    fig, ax = plt.subplots(1, 1, figsize=(12, 4))\n",
    "    ax.plot(\n",
    "        c.phi1.wrap_at(180*u.deg),\n",
    "        c.phi2, \n",
    "        marker=',', linestyle='none', alpha=0.05\n",
    "    )\n",
    "    ax.set_aspect('equal')"
   ]
  },
  {
   "cell_type": "code",
   "execution_count": null,
   "id": "e262d472",
   "metadata": {},
   "outputs": [],
   "source": []
  },
  {
   "cell_type": "code",
   "execution_count": 28,
   "id": "9cfef906",
   "metadata": {},
   "outputs": [
    {
     "data": {
      "text/plain": [
       "18395799"
      ]
     },
     "execution_count": 28,
     "metadata": {},
     "output_type": "execute_result"
    }
   ],
   "source": [
    "tbl = at.Table.read(data_path / 'GaiaDR3-Fjorm-M68-all.fits')\n",
    "len(tbl)"
   ]
  },
  {
   "cell_type": "code",
   "execution_count": 31,
   "id": "21d54dd9",
   "metadata": {},
   "outputs": [],
   "source": [
    "sub_tbl = tbl['source_id', 'ra', 'dec']\n",
    "path = data_path / 'tmp'\n",
    "path.mkdir(exist_ok=True)\n",
    "\n",
    "idx = np.linspace(0, len(tbl), 2).astype(int)\n",
    "for j, (i1, i2) in enumerate(zip(idx[:-1], idx[1:])):\n",
    "    sub_tbl[i1:i2].write(\n",
    "        path / f'fjorm-M68_all_mast_upload{j}.xml', \n",
    "        overwrite=True,\n",
    "        format='votable'\n",
    "    )"
   ]
  },
  {
   "attachments": {},
   "cell_type": "markdown",
   "id": "194e33ce",
   "metadata": {},
   "source": [
    "## MAST XM Input"
   ]
  },
  {
   "cell_type": "code",
   "execution_count": 2,
   "id": "9d88b40a",
   "metadata": {},
   "outputs": [
    {
     "data": {
      "text/plain": [
       "'\\nselect s.source_id, s.ra, s.dec, o.objID, o.raMean, o.decMean,\\n   o.nDetections, o.ng, o.nr, o.ni, o.nz, o.ny,\\n   m.gMeanPSFMag, m.rMeanPSFMag, m.iMeanPSFMag, m.zMeanPSFMag, m.yMeanPSFMag,\\n   m.gMeanPSFMagErr, m.rMeanPSFMagErr, m.iMeanPSFMagErr, m.zMeanPSFMagErr, m.yMeanPSFMagErr,\\n   m.iMeanKronMag\\ninto mydb.Pal5_DR3_xm_extra \\nfrom MyDB.pal5_all_mast_upload s\\ncross apply fGetNearbyObjEq(s.ra, s.dec, 3.0 / 60.0) nb\\ninner join ObjectThin o on o.objid=nb.objid and o.nDetections>3\\ninner join MeanObject m on o.objid=m.objid and o.uniquePspsOBid=m.uniquePspsOBid\\n'"
      ]
     },
     "execution_count": 2,
     "metadata": {},
     "output_type": "execute_result"
    }
   ],
   "source": [
    "'''\n",
    "select s.source_id, s.ra, s.dec, o.objID, o.raMean, o.decMean,\n",
    "   o.nDetections, o.ng, o.nr, o.ni, o.nz, o.ny,\n",
    "   m.gMeanPSFMag, m.rMeanPSFMag, m.iMeanPSFMag, m.zMeanPSFMag, m.yMeanPSFMag,\n",
    "   m.gMeanPSFMagErr, m.rMeanPSFMagErr, m.iMeanPSFMagErr, m.zMeanPSFMagErr, m.yMeanPSFMagErr,\n",
    "   m.iMeanKronMag\n",
    "into mydb.Fjorm_M68_DR3_xm_1 \n",
    "from MyDB.mast_subset_Fjorm_M68_1 s\n",
    "cross apply fGetNearbyObjEq(s.ra, s.dec, 3.0 / 60.0) nb\n",
    "inner join ObjectThin o on o.objid=nb.objid and o.nDetections>3\n",
    "inner join MeanObject m on o.objid=m.objid and o.uniquePspsOBid=m.uniquePspsOBid\n",
    "'''"
   ]
  },
  {
   "attachments": {},
   "cell_type": "markdown",
   "id": "95bb0d27",
   "metadata": {},
   "source": [
    "## Joining the Tables"
   ]
  },
  {
   "cell_type": "code",
   "execution_count": 8,
   "id": "1a910e47",
   "metadata": {},
   "outputs": [],
   "source": [
    "ps1 = at.Table.read(data_path / 'tmp/Pal5_DR3_PS1_xm_ktavangar.fit')\n",
    "for col in ps1.colnames:\n",
    "    ps1[col] = ps1[col][:, 0]"
   ]
  },
  {
   "cell_type": "code",
   "execution_count": 11,
   "id": "b52f5b48",
   "metadata": {},
   "outputs": [
    {
     "data": {
      "text/plain": [
       "(2956799, 3086921)"
      ]
     },
     "execution_count": 11,
     "metadata": {},
     "output_type": "execute_result"
    }
   ],
   "source": [
    "len(tbl), len(ps1)"
   ]
  },
  {
   "cell_type": "code",
   "execution_count": 12,
   "id": "4bb5b44f",
   "metadata": {},
   "outputs": [],
   "source": [
    "joined = at.join(\n",
    "    tbl, \n",
    "    ps1, \n",
    "    keys='source_id', \n",
    "    uniq_col_name='{col_name}{table_name}', \n",
    "    table_names=['', '_2']\n",
    ")\n",
    "joined['index'] = np.arange(len(joined), dtype=int)"
   ]
  },
  {
   "cell_type": "code",
   "execution_count": 13,
   "id": "39918c59",
   "metadata": {},
   "outputs": [
    {
     "data": {
      "text/plain": [
       "(2954577, 3054867)"
      ]
     },
     "execution_count": 13,
     "metadata": {},
     "output_type": "execute_result"
    }
   ],
   "source": [
    "np.unique(ps1['source_id']).size, np.unique(ps1['objID']).size"
   ]
  },
  {
   "cell_type": "code",
   "execution_count": 14,
   "id": "c58c51fd",
   "metadata": {},
   "outputs": [],
   "source": [
    "gaia_c = coord.SkyCoord(joined['ra'], joined['dec'], unit='deg')\n",
    "ps1_c = coord.SkyCoord(joined['raMean'], joined['decMean'], unit='deg')\n",
    "sep = gaia_c.separation(ps1_c)\n",
    "joined['sep_arcsec'] = sep.to_value(u.arcsec)\n",
    "sep_mask = (\n",
    "    (sep < 1*u.arcsec) &  # seems I can be stricter\n",
    "    (joined['ng'] > 2) &  # helps trim PS1 duplicate sources\n",
    "    (joined['nr'] > 2) & \n",
    "    (joined['ni'] > 2)\n",
    ")"
   ]
  },
  {
   "cell_type": "code",
   "execution_count": 15,
   "id": "7fdd495e",
   "metadata": {},
   "outputs": [
    {
     "data": {
      "text/plain": [
       "7276"
      ]
     },
     "execution_count": 15,
     "metadata": {},
     "output_type": "execute_result"
    }
   ],
   "source": [
    "vals, counts = np.unique(joined['source_id'][sep_mask], return_counts=True)\n",
    "dup_mask = np.isin(joined['source_id'], vals[counts > 1])\n",
    "dup_mask.sum()"
   ]
  },
  {
   "cell_type": "code",
   "execution_count": 16,
   "id": "b99cb6b6",
   "metadata": {},
   "outputs": [
    {
     "name": "stderr",
     "output_type": "stream",
     "text": [
      "100%|██████████| 3292/3292 [00:02<00:00, 1152.24it/s]\n"
     ]
    }
   ],
   "source": [
    "tmp = joined[dup_mask]\n",
    "del_index = []\n",
    "for source_id in tqdm(np.unique(tmp['source_id'])):\n",
    "    rows = tmp[tmp['source_id'] == source_id]\n",
    "    closest_i = rows['sep_arcsec'].argmin()\n",
    "    shit = np.asarray(rows['index'][rows['index'] != rows['index'][closest_i]])\n",
    "    del_index = np.concatenate((del_index, shit))"
   ]
  },
  {
   "cell_type": "code",
   "execution_count": 17,
   "id": "4e541e6c",
   "metadata": {},
   "outputs": [
    {
     "data": {
      "text/plain": [
       "(3086921, 2857497)"
      ]
     },
     "execution_count": 17,
     "metadata": {},
     "output_type": "execute_result"
    }
   ],
   "source": [
    "cleaned = joined[sep_mask & (~np.isin(joined['index'], del_index))]\n",
    "len(joined), len(cleaned)"
   ]
  },
  {
   "cell_type": "code",
   "execution_count": 18,
   "id": "abff1037",
   "metadata": {},
   "outputs": [
    {
     "data": {
      "text/plain": [
       "1050"
      ]
     },
     "execution_count": 18,
     "metadata": {},
     "output_type": "execute_result"
    }
   ],
   "source": [
    "vals, counts = np.unique(cleaned['objID'], return_counts=True)\n",
    "dup_mask_ps1 = np.isin(cleaned['objID'], vals[counts > 1])\n",
    "dup_mask_ps1.sum()\n"
   ]
  },
  {
   "cell_type": "code",
   "execution_count": 19,
   "id": "e96964bc",
   "metadata": {},
   "outputs": [],
   "source": [
    "write_colnames = ps1.colnames + ['sep_arcsec']\n",
    "write_colnames.pop(1)\n",
    "write_colnames.pop(1)\n",
    "cleaned[write_colnames].write(data_path / 'PS1DR2_Pal5_xm.fits', overwrite=True)"
   ]
  },
  {
   "cell_type": "code",
   "execution_count": null,
   "id": "b6384437",
   "metadata": {},
   "outputs": [],
   "source": []
  },
  {
   "cell_type": "code",
   "execution_count": null,
   "id": "fa59e4b6",
   "metadata": {},
   "outputs": [],
   "source": []
  },
  {
   "cell_type": "code",
   "execution_count": 23,
   "id": "418e4aab",
   "metadata": {},
   "outputs": [],
   "source": [
    "import sys\n",
    "sys.path.append('../')\n",
    "import cats.photometry as phot\n",
    "from cats.data import make_astro_photo_joined_data\n",
    "\n",
    "name = 'Pal5'\n",
    "ms_name = 'Pal5-PW19'\n",
    "g = GaiaData(f'../data/GaiaDR3-{name}-all.fits')\n",
    "p = phot.PS1Phot(f'../data/PS1DR2_Pal5_xm.fits')\n",
    "gs = mws[ms_name]"
   ]
  },
  {
   "cell_type": "code",
   "execution_count": 24,
   "id": "3c09e092",
   "metadata": {},
   "outputs": [
    {
     "name": "stderr",
     "output_type": "stream",
     "text": [
      "WARNING: AstropyDeprecationWarning: The matrix_product function is deprecated and may be removed in a future version.\n",
      "        Use @ instead. [gala.coordinates.greatcircle]\n",
      "WARNING: VerifyWarning: Keyword name 'band_names' is greater than 8 characters or contains characters not allowed by the FITS standard; a HIERARCH card will be created. [astropy.io.fits.card]\n"
     ]
    }
   ],
   "source": [
    "joined = make_astro_photo_joined_data(g, p, gs)\n",
    "joined.write(f'../data/joined-{name}_version2.fits', overwrite=True)"
   ]
  },
  {
   "cell_type": "code",
   "execution_count": 25,
   "id": "a8491f1a",
   "metadata": {},
   "outputs": [
    {
     "data": {
      "text/html": [
       "<div><i>Table length=2857497</i>\n",
       "<table id=\"table140548617907168\" class=\"table-striped table-bordered table-condensed\">\n",
       "<thead><tr><th>source_id</th><th>ra</th><th>dec</th><th>parallax</th><th>parallax_error</th><th>pmra</th><th>pmra_error</th><th>pmdec</th><th>pmdec_error</th><th>ra_parallax_corr</th><th>ra_pmra_corr</th><th>ra_pmdec_corr</th><th>dec_parallax_corr</th><th>dec_pmra_corr</th><th>dec_pmdec_corr</th><th>parallax_pmra_corr</th><th>parallax_pmdec_corr</th><th>pmra_pmdec_corr</th><th>phot_g_mean_mag</th><th>phot_g_mean_flux_over_error</th><th>phot_bp_mean_mag</th><th>phot_bp_mean_flux_over_error</th><th>phot_rp_mean_mag</th><th>phot_rp_mean_flux_over_error</th><th>ruwe</th><th>astrometric_matched_transits</th><th>phi1</th><th>phi2</th><th>pm_phi1_cosphi2</th><th>pm_phi1_cosphi2_unrefl</th><th>pm_phi2</th><th>pm_phi2_unrefl</th><th>star_mask</th><th>g0</th><th>r0</th><th>i0</th><th>z0</th><th>y0</th></tr></thead>\n",
       "<thead><tr><th></th><th></th><th></th><th></th><th></th><th></th><th></th><th></th><th></th><th></th><th></th><th></th><th></th><th></th><th></th><th></th><th></th><th></th><th></th><th></th><th></th><th></th><th></th><th></th><th></th><th></th><th>deg</th><th>deg</th><th>mas / yr</th><th>mas / yr</th><th>mas / yr</th><th>mas / yr</th><th></th><th></th><th></th><th></th><th></th><th></th></tr></thead>\n",
       "<thead><tr><th>int64</th><th>float64</th><th>float64</th><th>float64</th><th>float32</th><th>float64</th><th>float32</th><th>float64</th><th>float32</th><th>float32</th><th>float32</th><th>float32</th><th>float32</th><th>float32</th><th>float32</th><th>float32</th><th>float32</th><th>float32</th><th>float32</th><th>float32</th><th>float32</th><th>float32</th><th>float32</th><th>float32</th><th>float32</th><th>int16</th><th>float64</th><th>float64</th><th>float64</th><th>float64</th><th>float64</th><th>float64</th><th>bool</th><th>float64</th><th>float64</th><th>float64</th><th>float64</th><th>float64</th></tr></thead>\n",
       "<tr><td>1152921642046057600</td><td>225.01725207664146</td><td>0.031173074881935294</td><td>0.5274778604021236</td><td>0.16501048</td><td>-14.205774967883292</td><td>0.16504936</td><td>0.6693334057213256</td><td>0.14581224</td><td>-0.41641617</td><td>0.055257276</td><td>-0.1417481</td><td>-0.45241204</td><td>-0.100705795</td><td>0.09009205</td><td>-0.019543147</td><td>0.08448724</td><td>-0.10846218</td><td>17.96442</td><td>626.61804</td><td>18.468573</td><td>37.74546</td><td>17.329996</td><td>120.687935</td><td>0.9961293</td><td>21</td><td>3.2375585184719298</td><td>-2.336727347320985</td><td>8.945967190022602</td><td>11.48528982856014</td><td>-9.01349761674976</td><td>-8.386904506439029</td><td>True</td><td>18.413771465420723</td><td>17.812169209122658</td><td>17.569516874849796</td><td>17.46965292841196</td><td>17.388298258185387</td></tr>\n",
       "<tr><td>1152921646341528576</td><td>225.0298806737716</td><td>0.02963058150960117</td><td>0.25842142442320365</td><td>0.06763306</td><td>-6.326358236944066</td><td>0.08140472</td><td>-10.369505161283758</td><td>0.07046268</td><td>-0.19756061</td><td>0.032141022</td><td>-0.10863238</td><td>-0.16480868</td><td>-0.09749578</td><td>0.12153087</td><td>0.0068655154</td><td>0.06949286</td><td>-0.035844613</td><td>16.730392</td><td>1167.1216</td><td>17.031622</td><td>158.0333</td><td>16.262787</td><td>200.7755</td><td>1.1415453</td><td>24</td><td>3.2278624864547805</td><td>-2.3284809296626894</td><td>8.454418925996075</td><td>10.993443441072735</td><td>4.5400767733076</td><td>5.166589507593525</td><td>True</td><td>16.865407824516296</td><td>16.61016371846199</td><td>16.522174775600433</td><td>16.5005347058177</td><td>16.488825473934412</td></tr>\n",
       "<tr><td>1152921676405542912</td><td>225.02856508375135</td><td>0.03255618855271846</td><td>0.19289056329088083</td><td>0.20087536</td><td>-7.534899641443221</td><td>0.23768133</td><td>3.708972830079383</td><td>0.19803469</td><td>-0.3015835</td><td>0.09661818</td><td>-0.04246375</td><td>-0.22465621</td><td>-0.017594278</td><td>0.058393944</td><td>-0.13223656</td><td>-0.006926631</td><td>-0.019965878</td><td>18.626148</td><td>457.3165</td><td>18.937263</td><td>26.264584</td><td>18.091547</td><td>87.383965</td><td>0.9865868</td><td>23</td><td>3.227347631142805</td><td>-2.3316472074961054</td><td>1.7046028331324057</td><td>4.243611522783629</td><td>-7.873776608628671</td><td>-7.247272128503684</td><td>True</td><td>18.848761692643166</td><td>18.480545952916145</td><td>18.350409127771854</td><td>18.301440462470055</td><td>18.282111708074808</td></tr>\n",
       "<tr><td>1152921715061005696</td><td>225.00625684093683</td><td>0.042436471397097976</td><td>0.40067190664822405</td><td>0.038644496</td><td>-8.7938419565765</td><td>0.041019402</td><td>-1.015930940108139</td><td>0.036344964</td><td>-0.26211518</td><td>0.06649366</td><td>-0.119367905</td><td>-0.32218683</td><td>-0.036483526</td><td>0.0007180708</td><td>-0.14845128</td><td>0.13129467</td><td>-0.18826331</td><td>15.597105</td><td>2511.0989</td><td>16.033615</td><td>372.93732</td><td>14.994933</td><td>454.55008</td><td>1.0154525</td><td>23</td><td>3.24052917661327</td><td>-2.352185329614114</td><td>5.358544878332198</td><td>7.897958901290051</td><td>-4.62485531507119</td><td>-3.9982517711929497</td><td>True</td><td>15.928808853030205</td><td>15.450484231114388</td><td>15.270890176296234</td><td>15.20121806114912</td><td>15.148926921188831</td></tr>\n",
       "<tr><td>1152921745125274112</td><td>225.0212570363653</td><td>0.05483142064503818</td><td>0.29013617460026675</td><td>0.1422265</td><td>-11.541753464165701</td><td>0.15958185</td><td>-3.0606442797759397</td><td>0.13177453</td><td>-0.2922285</td><td>0.0083756875</td><td>-0.11353354</td><td>-0.15684058</td><td>-0.10813976</td><td>0.01685879</td><td>-0.14496961</td><td>-0.022294477</td><td>-0.09564096</td><td>18.038414</td><td>587.34534</td><td>18.34814</td><td>46.078896</td><td>17.60992</td><td>45.462753</td><td>1.0379219</td><td>22</td><td>3.2211653087843723</td><td>-2.3542621639910655</td><td>8.778887512287724</td><td>11.3177062121297</td><td>-4.4328828931609054</td><td>-3.8064606304054895</td><td>True</td><td>18.16034634411335</td><td>17.91790822148323</td><td>17.84269604831934</td><td>17.82655967772007</td><td>17.808221373707056</td></tr>\n",
       "<tr><td>1152921882564226432</td><td>224.9751807626325</td><td>0.041226769944577066</td><td>0.13522485716411534</td><td>0.42181966</td><td>-2.950958298624454</td><td>0.54853165</td><td>-0.21953179024319838</td><td>0.39976043</td><td>-0.14534795</td><td>-0.10673351</td><td>-0.18171288</td><td>-0.30191985</td><td>-0.09828016</td><td>-0.13539705</td><td>-0.31086498</td><td>0.078059606</td><td>-0.02208467</td><td>19.620945</td><td>232.62732</td><td>20.593409</td><td>6.463786</td><td>18.547794</td><td>18.405022</td><td>0.9522293</td><td>21</td><td>3.267150285389646</td><td>-2.3683006637908584</td><td>0.0432280584342317</td><td>2.5834614757091634</td><td>-2.0697725199033195</td><td>-1.442940016312025</td><td>True</td><td>20.89475281536579</td><td>19.743423104286194</td><td>18.868768960237503</td><td>18.480795711278915</td><td>18.32734125852585</td></tr>\n",
       "<tr><td>1152921921219436032</td><td>225.00205600681574</td><td>0.05129344421731854</td><td>0.3137211858966935</td><td>0.3721436</td><td>-2.9015013434098833</td><td>0.4624835</td><td>-8.450767573828433</td><td>0.3839625</td><td>-0.21894516</td><td>0.09702583</td><td>-0.055642158</td><td>-0.2610466</td><td>0.006433564</td><td>0.018890452</td><td>-0.20100997</td><td>0.062396567</td><td>-0.03398061</td><td>19.52397</td><td>235.84326</td><td>20.323437</td><td>10.192065</td><td>18.598772</td><td>31.893784</td><td>1.0176346</td><td>22</td><td>3.239152639745643</td><td>-2.361891065763267</td><td>4.5387700773185875</td><td>7.078141754095372</td><td>4.826317471361012</td><td>5.452897572998339</td><td>True</td><td>20.590121433138847</td><td>19.49146682024002</td><td>18.86962030827999</td><td>18.559857107698917</td><td>18.395006500184536</td></tr>\n",
       "<tr><td>1152921951283704576</td><td>225.01027611394372</td><td>0.056829683612844045</td><td>0.8887987742879437</td><td>0.4146897</td><td>-3.58708255244167</td><td>0.5186557</td><td>-7.772335975055572</td><td>0.4233135</td><td>-0.22108611</td><td>0.1132419</td><td>-0.049103938</td><td>-0.26181158</td><td>0.018478751</td><td>0.017245257</td><td>-0.22538607</td><td>0.05988762</td><td>-0.021076858</td><td>19.667072</td><td>189.56192</td><td>20.764875</td><td>6.459957</td><td>18.706823</td><td>21.983791</td><td>0.9801509</td><td>22</td><td>3.2292340180504326</td><td>-2.3619809557264904</td><td>4.737333907998034</td><td>7.276400593750651</td><td>3.882432046877401</td><td>4.508920286103945</td><td>True</td><td>20.843303248286247</td><td>19.72491057217121</td><td>18.932133741676807</td><td>18.571174576878548</td><td>18.39259224012494</td></tr>\n",
       "<tr><td>1152921985643951232</td><td>224.9863655826303</td><td>0.05655904394762418</td><td>0.2478065356387375</td><td>1.3162774</td><td>-10.924039180785808</td><td>1.7110163</td><td>-6.692210461695864</td><td>1.6843354</td><td>-0.23145142</td><td>-0.023701638</td><td>-0.016593747</td><td>-0.3139349</td><td>0.008898449</td><td>-0.113447234</td><td>-0.018711062</td><td>-0.07982034</td><td>-0.5133704</td><td>20.537434</td><td>90.5296</td><td>21.4195</td><td>3.8244066</td><td>19.040247</td><td>14.273626</td><td>1.5276517</td><td>20</td><td>3.2493527114450353</td><td>-2.374931462492795</td><td>10.263857583170154</td><td>12.803543068587754</td><td>-1.0620884830926138</td><td>-0.43542826940096774</td><td>True</td><td>21.66440199315548</td><td>20.689484782516956</td><td>19.479171983897686</td><td>18.908882409334183</td><td>18.651884105056524</td></tr>\n",
       "<tr><td>...</td><td>...</td><td>...</td><td>...</td><td>...</td><td>...</td><td>...</td><td>...</td><td>...</td><td>...</td><td>...</td><td>...</td><td>...</td><td>...</td><td>...</td><td>...</td><td>...</td><td>...</td><td>...</td><td>...</td><td>...</td><td>...</td><td>...</td><td>...</td><td>...</td><td>...</td><td>...</td><td>...</td><td>...</td><td>...</td><td>...</td><td>...</td><td>...</td><td>...</td><td>...</td><td>...</td><td>...</td><td>...</td></tr>\n",
       "<tr><td>6341067931741076864</td><td>225.016072577835</td><td>-0.03690137043737964</td><td>0.5710442004394535</td><td>0.21001302</td><td>-22.584579525471625</td><td>0.2414403</td><td>-7.23018598666189</td><td>0.21306345</td><td>-0.22380926</td><td>0.043848027</td><td>-0.09594676</td><td>-0.3109294</td><td>-0.032953396</td><td>-0.00037773856</td><td>-0.11409851</td><td>0.12194734</td><td>-0.104636006</td><td>18.700886</td><td>432.84372</td><td>19.140314</td><td>36.529877</td><td>18.03279</td><td>42.548096</td><td>0.92264104</td><td>23</td><td>3.2760870413502214</td><td>-2.2805714645935993</td><td>20.28991141051977</td><td>22.830420161785117</td><td>-7.038774752876081</td><td>-6.411765511965472</td><td>True</td><td>19.10265715420246</td><td>18.546670123934746</td><td>18.302583135664463</td><td>18.204904332756996</td><td>18.132635664194822</td></tr>\n",
       "<tr><td>6341067931741324288</td><td>225.003787940694</td><td>-0.03576714471478965</td><td>0.40392730285220496</td><td>0.91083014</td><td>-12.116395724173085</td><td>1.365979</td><td>-3.8864900131799875</td><td>1.4646308</td><td>-0.35900012</td><td>0.08592392</td><td>-0.036923263</td><td>-0.22141246</td><td>0.16090278</td><td>-0.23422188</td><td>-0.22540167</td><td>0.067246415</td><td>-0.612735</td><td>20.497295</td><td>102.842995</td><td>21.460644</td><td>4.42951</td><td>19.48679</td><td>8.8345585</td><td>1.0014969</td><td>15</td><td>3.285720921718876</td><td>-2.2882873267617203</td><td>9.7116754995359</td><td>12.252481198486496</td><td>-4.060536356861177</td><td>-3.433446438790399</td><td>True</td><td>21.655739560723305</td><td>20.711342081427574</td><td>19.729984298348427</td><td>19.223463878035545</td><td>18.949066132307053</td></tr>\n",
       "<tr><td>6341067966100815616</td><td>225.01973748916961</td><td>-0.028184217641857596</td><td>0.2634167019974695</td><td>0.31863928</td><td>-6.774694845618429</td><td>0.3832417</td><td>-3.515056808446351</td><td>0.34039187</td><td>-0.15421513</td><td>-0.00637</td><td>-0.10352875</td><td>-0.27788377</td><td>-0.06662511</td><td>-0.008340237</td><td>-0.060570974</td><td>0.13335566</td><td>-0.08755534</td><td>19.323526</td><td>283.65015</td><td>19.673227</td><td>16.78198</td><td>18.764013</td><td>27.367598</td><td>1.0288885</td><td>24</td><td>3.268218945151091</td><td>-2.285826142523708</td><td>5.0499987288653205</td><td>7.590265063497647</td><td>-1.4269254422151598</td><td>-0.7999943022928525</td><td>True</td><td>19.55309210717678</td><td>19.163408935070038</td><td>19.03836030513048</td><td>18.99014489352703</td><td>18.895850136876106</td></tr>\n",
       "<tr><td>6341068000460552960</td><td>224.97964180607292</td><td>-0.05126986544369496</td><td>0.012920922150255875</td><td>0.48564386</td><td>-12.159181141137086</td><td>0.6303493</td><td>2.012334349876005</td><td>0.6026117</td><td>-0.16273314</td><td>0.0024206154</td><td>-0.15259236</td><td>-0.17325619</td><td>-0.116305165</td><td>0.012088183</td><td>-0.087893374</td><td>0.16864672</td><td>-0.2577483</td><td>19.956839</td><td>213.7064</td><td>20.579376</td><td>7.1847234</td><td>19.210424</td><td>16.099358</td><td>1.0214698</td><td>22</td><td>3.3144358779754026</td><td>-2.288655875301891</td><td>6.496166629088586</td><td>9.03785828686696</td><td>-9.006632364935035</td><td>-8.379277602823821</td><td>True</td><td>20.7915481030941</td><td>19.862471729516983</td><td>19.41555216908455</td><td>19.180058509111404</td><td>19.07047538459301</td></tr>\n",
       "<tr><td>6341068004755797248</td><td>224.97505957965834</td><td>-0.04351604431102561</td><td>0.6392085896839461</td><td>0.0720972</td><td>-17.719550102605414</td><td>0.082622305</td><td>7.454250662027201</td><td>0.07550194</td><td>-0.12417628</td><td>0.01148441</td><td>-0.08298099</td><td>-0.2539274</td><td>-0.05252122</td><td>0.0005037312</td><td>-0.038355015</td><td>0.16464911</td><td>-0.06883913</td><td>16.910807</td><td>1260.1223</td><td>17.321455</td><td>110.94052</td><td>16.340645</td><td>121.950714</td><td>1.0107497</td><td>22</td><td>3.3139867884637466</td><td>-2.2976512723567795</td><td>8.13761452013019</td><td>10.679292313044915</td><td>-16.611740713945586</td><td>-15.984399408911687</td><td>True</td><td>17.20712323486805</td><td>16.76159904897213</td><td>16.58141601085663</td><td>16.521224670112133</td><td>16.49327604472637</td></tr>\n",
       "<tr><td>6341068034820292096</td><td>224.9831313010875</td><td>-0.03409341268546495</td><td>0.4332672211821049</td><td>0.17285004</td><td>-14.506792893175518</td><td>0.21084681</td><td>2.772977044596313</td><td>0.1964636</td><td>-0.20539857</td><td>0.08310496</td><td>-0.21557248</td><td>-0.1572556</td><td>-0.15778454</td><td>0.14406584</td><td>-0.11864279</td><td>0.24107192</td><td>-0.1766824</td><td>18.413721</td><td>581.98376</td><td>19.128584</td><td>25.228456</td><td>17.574524</td><td>72.31098</td><td>0.953614</td><td>23</td><td>3.3020492990801897</td><td>-2.3010665869466775</td><td>8.036382859590814</td><td>10.577692191566515</td><td>-10.934936566762275</td><td>-10.307709233181669</td><td>True</td><td>19.217313215136528</td><td>18.3063373118639</td><td>17.86325913667679</td><td>17.64858667552471</td><td>17.517620727419853</td></tr>\n",
       "<tr><td>6341068034820539264</td><td>224.98831868575795</td><td>-0.040859821527328616</td><td>0.451180652599374</td><td>0.585329</td><td>-11.459776791584709</td><td>0.7674543</td><td>-5.185085314552208</td><td>0.67133623</td><td>-0.1773743</td><td>-0.0169931</td><td>-0.27816504</td><td>-0.12919205</td><td>-0.23257609</td><td>0.1264798</td><td>-0.14469221</td><td>0.2308312</td><td>-0.11549094</td><td>20.007479</td><td>156.99915</td><td>20.835196</td><td>5.738437</td><td>18.85546</td><td>19.382921</td><td>1.0828158</td><td>22</td><td>3.301448534563185</td><td>-2.2925617119647312</td><td>9.878858449594222</td><td>12.420149243459168</td><td>-2.615065314634053</td><td>-1.987834651657226</td><td>True</td><td>21.58405277132988</td><td>20.506695047020912</td><td>19.20915687084198</td><td>18.635969921946526</td><td>18.412260051816702</td></tr>\n",
       "<tr><td>6341068172259246464</td><td>225.0043714467888</td><td>-0.016769411808172298</td><td>-0.024050135529843704</td><td>0.2558671</td><td>-6.405665862954405</td><td>0.32995248</td><td>-4.3764438013931635</td><td>0.30811483</td><td>-0.1517964</td><td>-0.07234371</td><td>-0.045567717</td><td>-0.24141623</td><td>-0.020135319</td><td>-0.097731315</td><td>-0.043476894</td><td>0.08872193</td><td>-0.20094523</td><td>19.11285</td><td>360.7479</td><td>19.489511</td><td>18.753458</td><td>18.55696</td><td>35.456642</td><td>1.0059516</td><td>24</td><td>3.274756598274501</td><td>-2.3038189364416497</td><td>5.216521540216344</td><td>7.756989300612422</td><td>-0.5047736974122303</td><td>0.12219854645803722</td><td>True</td><td>19.339273124933243</td><td>18.979327499866486</td><td>18.82103982567787</td><td>18.76757863909006</td><td>18.772090636193752</td></tr>\n",
       "<tr><td>6341068210914227712</td><td>224.98696567228885</td><td>-0.012792117155659843</td><td>0.8547168943356753</td><td>0.051273093</td><td>-9.95634884118682</td><td>0.060414013</td><td>-2.8440933789155336</td><td>0.056212988</td><td>-0.19696079</td><td>0.0024929794</td><td>-0.041600768</td><td>-0.27638495</td><td>-0.012264468</td><td>-0.01232097</td><td>-0.013745304</td><td>0.13471094</td><td>-0.14602673</td><td>16.23541</td><td>1647.1823</td><td>16.690113</td><td>261.38693</td><td>15.619747</td><td>244.7547</td><td>1.0262557</td><td>23</td><td>3.2870996673435373</td><td>-2.3167292444155287</td><td>7.334721316836464</td><td>9.87556951659004</td><td>-3.740089789344293</td><td>-3.1130172049622336</td><td>True</td><td>16.587762162089348</td><td>16.06260745227337</td><td>15.88831713795662</td><td>15.804032653570175</td><td>15.762263238430023</td></tr>\n",
       "<tr><td>6341068245273965952</td><td>224.99484842673752</td><td>-0.013758549311811492</td><td>0.4794909337707203</td><td>0.18813056</td><td>-3.207042266948134</td><td>0.22985476</td><td>5.08363278940947</td><td>0.21329534</td><td>-0.1774063</td><td>-0.007212447</td><td>-0.23176634</td><td>-0.25284973</td><td>-0.14549029</td><td>0.048249073</td><td>-0.1600862</td><td>0.28634796</td><td>-0.14856921</td><td>18.314873</td><td>518.30133</td><td>18.947008</td><td>28.869003</td><td>17.569359</td><td>53.542717</td><td>1.1278358</td><td>21</td><td>3.2810492986382465</td><td>-2.3115790474047158</td><td>-2.6657675683207724</td><td>-0.1251058760143513</td><td>-6.636414006512053</td><td>-6.009391895968977</td><td>True</td><td>18.91765047609806</td><td>18.17981018126011</td><td>17.84039917588234</td><td>17.69145952910185</td><td>17.566320933401585</td></tr>\n",
       "</table></div>"
      ],
      "text/plain": [
       "<Table length=2857497>\n",
       "     source_id              ra         ...         z0                 y0        \n",
       "                                       ...                                      \n",
       "       int64             float64       ...      float64            float64      \n",
       "------------------- ------------------ ... ------------------ ------------------\n",
       "1152921642046057600 225.01725207664146 ...  17.46965292841196 17.388298258185387\n",
       "1152921646341528576  225.0298806737716 ...   16.5005347058177 16.488825473934412\n",
       "1152921676405542912 225.02856508375135 ... 18.301440462470055 18.282111708074808\n",
       "1152921715061005696 225.00625684093683 ...  15.20121806114912 15.148926921188831\n",
       "1152921745125274112  225.0212570363653 ...  17.82655967772007 17.808221373707056\n",
       "1152921882564226432  224.9751807626325 ... 18.480795711278915  18.32734125852585\n",
       "1152921921219436032 225.00205600681574 ... 18.559857107698917 18.395006500184536\n",
       "1152921951283704576 225.01027611394372 ... 18.571174576878548  18.39259224012494\n",
       "1152921985643951232  224.9863655826303 ... 18.908882409334183 18.651884105056524\n",
       "                ...                ... ...                ...                ...\n",
       "6341067931741076864   225.016072577835 ... 18.204904332756996 18.132635664194822\n",
       "6341067931741324288   225.003787940694 ... 19.223463878035545 18.949066132307053\n",
       "6341067966100815616 225.01973748916961 ...  18.99014489352703 18.895850136876106\n",
       "6341068000460552960 224.97964180607292 ... 19.180058509111404  19.07047538459301\n",
       "6341068004755797248 224.97505957965834 ... 16.521224670112133  16.49327604472637\n",
       "6341068034820292096  224.9831313010875 ...  17.64858667552471 17.517620727419853\n",
       "6341068034820539264 224.98831868575795 ... 18.635969921946526 18.412260051816702\n",
       "6341068172259246464  225.0043714467888 ...  18.76757863909006 18.772090636193752\n",
       "6341068210914227712 224.98696567228885 ... 15.804032653570175 15.762263238430023\n",
       "6341068245273965952 224.99484842673752 ...  17.69145952910185 17.566320933401585"
      ]
     },
     "execution_count": 25,
     "metadata": {},
     "output_type": "execute_result"
    }
   ],
   "source": [
    "joined"
   ]
  },
  {
   "cell_type": "code",
   "execution_count": null,
   "id": "eadad89b",
   "metadata": {},
   "outputs": [],
   "source": []
  }
 ],
 "metadata": {
  "kernelspec": {
   "display_name": "Python 3",
   "language": "python",
   "name": "python3"
  },
  "language_info": {
   "codemirror_mode": {
    "name": "ipython",
    "version": 3
   },
   "file_extension": ".py",
   "mimetype": "text/x-python",
   "name": "python",
   "nbconvert_exporter": "python",
   "pygments_lexer": "ipython3",
   "version": "3.9.16"
  },
  "toc": {
   "base_numbering": 1,
   "nav_menu": {},
   "number_sections": true,
   "sideBar": true,
   "skip_h1_title": false,
   "title_cell": "Table of Contents",
   "title_sidebar": "Contents",
   "toc_cell": false,
   "toc_position": {},
   "toc_section_display": true,
   "toc_window_display": true
  }
 },
 "nbformat": 4,
 "nbformat_minor": 5
}
